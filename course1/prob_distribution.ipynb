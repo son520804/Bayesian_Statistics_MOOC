{
 "cells": [
  {
   "cell_type": "markdown",
   "metadata": {},
   "source": [
    "## Probability Distributions\n",
    "\n",
    "In this lecture we are going to discuss probability distribution. A probability distribution is a mathematical object that describes how likely different events are. A common conceptualization in statistics is t think data is generated from some true probability distribution with unknown parameters. Then, inference is the process of figuring out the values of those parameters using a sample (also called a **dataset**) from the true probability distribution.\n",
    "\n",
    "As we do not see the true probability distribution, we must create a model in an attempt to somehowIn general, we cannot be sure of whether our model is correct, so we need to evaluate and update the models in order to gain confidence about our models being suitable for the problem we want to explore or solve."
   ]
  }
 ],
 "metadata": {
  "kernelspec": {
   "display_name": "Python 3",
   "language": "python",
   "name": "python3"
  },
  "language_info": {
   "codemirror_mode": {
    "name": "ipython",
    "version": 3
   },
   "file_extension": ".py",
   "mimetype": "text/x-python",
   "name": "python",
   "nbconvert_exporter": "python",
   "pygments_lexer": "ipython3",
   "version": "3.7.3"
  }
 },
 "nbformat": 4,
 "nbformat_minor": 2
}
