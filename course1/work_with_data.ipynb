{
 "cells": [
  {
   "cell_type": "markdown",
   "metadata": {},
   "source": [
    "## Working with Data\n",
    "\n",
    "Data is an essential ingredient in data science. Data comes from various sources, such as experiments,\n",
    "computer simulations, surveys, field observations, online platforms, human-computer interactions, etc. There\n",
    "is a whole branch of **statistics** dealing with data collection, known as **experimental design**. As a\n",
    "general rule, we can think of the process generating the data as stochastic, because there is technical and\n",
    "epistemic uncertainty. In other words, there are conceptual limitations veiling the details of the data. For\n",
    "all these reasons, we are recommended to interpret data in the context of models; data would speak with the\n",
    "use of models.\n",
    "\n",
    "Over this course we will assume that we already have collected the data. Our data will also be clean and\n",
    "tidy, which is uncommon in the real world though. We will make these assumptions in order to focus on\n",
    "understanding the data and modeling techniques associated with Bayesian Statistics.\n",
    "\n",
    "A very useful skill when analyzing data is knowing how to write code in a programming language, such as\n",
    "Python and R. Even if your data is very clean and tidy, coding will still be essential since modern Bayesian\n",
    "Statistics is done mostly through programming languages such as Python and R."
   ]
  }
 ],
 "metadata": {
  "kernelspec": {
   "display_name": "Python 3",
   "language": "python",
   "name": "python3"
  },
  "language_info": {
   "codemirror_mode": {
    "name": "ipython",
    "version": 3
   },
   "file_extension": ".py",
   "mimetype": "text/x-python",
   "name": "python",
   "nbconvert_exporter": "python",
   "pygments_lexer": "ipython3",
   "version": "3.7.3"
  }
 },
 "nbformat": 4,
 "nbformat_minor": 2
}
