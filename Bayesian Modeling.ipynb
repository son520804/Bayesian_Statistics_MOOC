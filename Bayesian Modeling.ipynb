{
 "cells": [
  {
   "cell_type": "markdown",
   "metadata": {},
   "source": [
    "## Bayesian Modeling Introduction\n",
    "\n",
    "In this lecture we are going to discuss Bayesian modeling. Models are simplified descriptions of a given\n",
    "system or process that, for some reason, we are interested in. Those descriptions are deliberately created\n",
    "in order to capture the most relevant aspects of the system. \n",
    "\n",
    "There are various kinds of models; we focus our scope on Bayesian models. Particularly, we can summarize the\n",
    "Bayesian modeling process using three steps:\n",
    "\n",
    "* Given some data and some assumptions on how this data could have been generated, we can design a model by\n",
    "combining building blocks known as **probability distributions**. Most of the time these models can provide\n",
    "a crude approximation of the data, and that's all we need.\n",
    "\n",
    "* We also use Bayes' theorem, a probabilistic update rule, to add data to our models and logically derive\n",
    "the update of assumptions.\n",
    "\n",
    "* We measure the goodness of models by checking whether the models make sense according to criteria like\n",
    "data, our subject knowledge and sometimes by comparing several models.\n",
    "\n",
    "\n",
    "Bayesian models are also known as **probabilistic models** because the building block of which are\n",
    "probability distributions. But why do we use probabilities? It is because probabilities are the correct tool\n",
    "to not only model the variables, but also quantify the uncertainty. While statistical world has more than\n",
    "one definition of probability, from a Bayesian perspective, we define probability is **a measure that\n",
    "quantifies the uncertainty level** of a statement. We use the modeling approach that explicitly takes\n",
    "uncertainty into account."
   ]
  },
  {
   "cell_type": "markdown",
   "metadata": {},
   "source": []
  }
 ],
 "metadata": {
  "kernelspec": {
   "display_name": "Python 3",
   "language": "python",
   "name": "python3"
  },
  "language_info": {
   "codemirror_mode": {
    "name": "ipython",
    "version": 3
   },
   "file_extension": ".py",
   "mimetype": "text/x-python",
   "name": "python",
   "nbconvert_exporter": "python",
   "pygments_lexer": "ipython3",
   "version": "3.7.3"
  }
 },
 "nbformat": 4,
 "nbformat_minor": 2
}
