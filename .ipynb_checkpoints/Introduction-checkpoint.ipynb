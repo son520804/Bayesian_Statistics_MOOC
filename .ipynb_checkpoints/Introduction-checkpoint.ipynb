{
 "cells": [
  {
   "cell_type": "markdown",
   "metadata": {},
   "source": [
    "In this course we are talking about Bayesian, in which the method is the natural approach to inference. This course attempts to develop a solid Bayesian thinking or Bayesian mindset by providing real-world programming examples when introducing Bayesian concepts. Here if you know a bit how to program, you can use this skill to understand our lectures and form how to think of real-life problems using a Bayesian way. \n",
    "\n",
    "For most Bayesian inference courses, the focus of the study starts from mathematical analysis. More often it involves months of math training before starting to look at examples and codes. After some success of leveraging Bayesian methods in educational technology and machine learning problems, I was motivated to read various examples and try to put pieces together to bridge theories into practice. Our course series will look into the scenarios such as the challenger space shuttle disaster, sorting sentiment from Twitter autobiographies, comparing upvote ratios on different product comments and the Price is Right's argument, instead of using weeks of conceptual classes, to guide you through the application of wonderful yet simple Bayesian models into our world."
   ]
  },
  {
   "cell_type": "markdown",
   "metadata": {},
   "source": [
    "This training uses Python code for demonstration, visualization and application instead of heavily relies on mathematical terms and concepts like calculus. What would be an integral or differentiation in a math course would look like a summation or a function to wrap up formula expressions, and most operations on probability distributions are designed just using list comprehensions and loops. I think this presentation can make Bayesian Statistics more understandable and grow you with practical Python programming skills as well. Last but not least, throughout the course you can explore interactive tools which shows you different probability distributions with user-defined input and parameters. Hope you will enjoy this programming-based learning of Bayesian statistics in the following weeks and months and find this training useful. See you!"
   ]
  }
 ],
 "metadata": {
  "kernelspec": {
   "display_name": "Python 3",
   "language": "python",
   "name": "python3"
  },
  "language_info": {
   "codemirror_mode": {
    "name": "ipython",
    "version": 3
   },
   "file_extension": ".py",
   "mimetype": "text/x-python",
   "name": "python",
   "nbconvert_exporter": "python",
   "pygments_lexer": "ipython3",
   "version": "3.8.3"
  }
 },
 "nbformat": 4,
 "nbformat_minor": 4
}
