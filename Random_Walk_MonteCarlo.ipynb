{
 "cells": [
  {
   "cell_type": "markdown",
   "metadata": {},
   "source": [
    "## Random Walk"
   ]
  },
  {
   "cell_type": "code",
   "execution_count": 2,
   "metadata": {},
   "outputs": [],
   "source": [
    "import random\n",
    "def random_walk(step):\n",
    "    \"\"\"Return the coordinate after n steps of random walk\"\"\"\n",
    "    \n",
    "    # Initialize x and y coordinate\n",
    "    x, y = 0, 0\n",
    "    \n",
    "    for i in range(step):\n",
    "        # Assign the difference in x and y coordinate in each step\n",
    "        (dx, dy) = random.choice([(0, 1), (0, -1), (1, 0), (-1, 0)])\n",
    "        # Update x and y coordinate\n",
    "        x += dx\n",
    "        y += dy\n",
    "    # And return the updated x and y coordinate as output\n",
    "    return (x, y)"
   ]
  },
  {
   "cell_type": "code",
   "execution_count": 10,
   "metadata": {},
   "outputs": [
    {
     "name": "stdout",
     "output_type": "stream",
     "text": [
      "(-3, 3) Distance from origin 6\n",
      "(2, 4) Distance from origin 6\n",
      "(1, -1) Distance from origin 2\n",
      "(0, -2) Distance from origin 2\n",
      "(-2, -2) Distance from origin 4\n",
      "(5, 3) Distance from origin 8\n",
      "(-4, -2) Distance from origin 6\n",
      "(4, -2) Distance from origin 6\n",
      "(-1, -1) Distance from origin 2\n",
      "(-6, 2) Distance from origin 8\n",
      "(-2, 4) Distance from origin 6\n",
      "(-3, 1) Distance from origin 4\n",
      "(-4, 2) Distance from origin 6\n",
      "(-1, 1) Distance from origin 2\n",
      "(-2, -4) Distance from origin 6\n",
      "(-3, -3) Distance from origin 6\n",
      "(2, -2) Distance from origin 4\n",
      "(1, 1) Distance from origin 2\n",
      "(7, 1) Distance from origin 8\n",
      "(-3, -1) Distance from origin 4\n",
      "(0, -2) Distance from origin 2\n",
      "(0, 6) Distance from origin 6\n",
      "(2, 0) Distance from origin 2\n",
      "(0, 0) Distance from origin 0\n",
      "(2, 4) Distance from origin 6\n"
     ]
    }
   ],
   "source": [
    "# To find out the distance from origin after say 20 steps, we write a for loop\n",
    "# to demonstrate 25 trials of the random walk\n",
    "step = 20\n",
    "for i in range(25):\n",
    "    walk = random_walk(step)\n",
    "    print(walk, \"Distance from origin\", abs(walk[0]) + abs(walk[1]))"
   ]
  },
  {
   "cell_type": "markdown",
   "metadata": {},
   "source": [
    "## Research Question: What is the longest random walk you can take so that a majority of time you will end up 5 blocks or fewer from the origin?\n",
    "\n",
    "Traditional methods may involve complicated mathematical and probabilistic calculations. Here we present Monte Carlo simulation, which is a stepwise method to approxiate a problem through sampling from posterior distributions that have no analytical solution. \n",
    "\n",
    "* Monte-Carlo Simulation can provide accurate, reliable estimates, and quantify uncertainty."
   ]
  },
  {
   "cell_type": "code",
   "execution_count": 25,
   "metadata": {},
   "outputs": [
    {
     "name": "stdout",
     "output_type": "stream",
     "text": [
      "With walk size =  1 , the percentage of short distance is  100.0 %\n",
      "With walk size =  2 , the percentage of short distance is  100.0 %\n",
      "With walk size =  3 , the percentage of short distance is  100.0 %\n",
      "With walk size =  4 , the percentage of short distance is  100.0 %\n",
      "With walk size =  5 , the percentage of short distance is  100.0 %\n",
      "With walk size =  6 , the percentage of short distance is  93.78 %\n",
      "With walk size =  7 , the percentage of short distance is  96.91 %\n",
      "With walk size =  8 , the percentage of short distance is  86.61 %\n",
      "With walk size =  9 , the percentage of short distance is  92.61 %\n",
      "With walk size =  10 , the percentage of short distance is  79.65 %\n",
      "With walk size =  11 , the percentage of short distance is  87.45 %\n",
      "With walk size =  12 , the percentage of short distance is  73.48 %\n",
      "With walk size =  13 , the percentage of short distance is  82.03 %\n",
      "With walk size =  14 , the percentage of short distance is  67.97999999999999 %\n",
      "With walk size =  15 , the percentage of short distance is  77.62 %\n",
      "With walk size =  16 , the percentage of short distance is  62.870000000000005 %\n",
      "With walk size =  17 , the percentage of short distance is  72.91 %\n",
      "With walk size =  18 , the percentage of short distance is  58.07 %\n",
      "With walk size =  19 , the percentage of short distance is  68.92 %\n",
      "With walk size =  20 , the percentage of short distance is  54.04 %\n",
      "With walk size =  21 , the percentage of short distance is  65.68 %\n",
      "With walk size =  22 , the percentage of short distance is  51.339999999999996 %\n",
      "With walk size =  23 , the percentage of short distance is  62.44 %\n",
      "With walk size =  24 , the percentage of short distance is  47.79 %\n",
      "With walk size =  25 , the percentage of short distance is  58.9 %\n",
      "With walk size =  26 , the percentage of short distance is  46.08 %\n",
      "With walk size =  27 , the percentage of short distance is  57.29 %\n",
      "With walk size =  28 , the percentage of short distance is  43.46 %\n",
      "With walk size =  29 , the percentage of short distance is  54.16 %\n",
      "With walk size =  30 , the percentage of short distance is  40.839999999999996 %\n",
      "With walk size =  31 , the percentage of short distance is  52.290000000000006 %\n",
      "With walk size =  32 , the percentage of short distance is  39.019999999999996 %\n",
      "With walk size =  33 , the percentage of short distance is  48.68 %\n",
      "With walk size =  34 , the percentage of short distance is  37.18 %\n",
      "With walk size =  35 , the percentage of short distance is  47.05 %\n",
      "With walk size =  36 , the percentage of short distance is  35.07 %\n",
      "With walk size =  37 , the percentage of short distance is  45.69 %\n",
      "With walk size =  38 , the percentage of short distance is  33.239999999999995 %\n",
      "With walk size =  39 , the percentage of short distance is  43.6 %\n",
      "With walk size =  40 , the percentage of short distance is  32.41 %\n"
     ]
    }
   ],
   "source": [
    "# To get an accurate number, we use a 10,000 random walks for each walk size\n",
    "number_of_walks = 10000\n",
    "\n",
    "# For each walk size,\n",
    "for walk_length in range(1,41):\n",
    "    # Conduct 10,000 random walks with that walk size\n",
    "    \n",
    "    # Let's create a counter to store the number\n",
    "    short_walk = 0\n",
    "    \n",
    "    # Now begin the Monte Carlo Simulation. For each time of the random walk,\n",
    "    for time in range(number_of_walks):\n",
    "        # return the final x and y coordinate after n step of the random walk\n",
    "        (x, y) = random_walk(walk_length)\n",
    "        # We now use absolute distance to calculate the final distance from origin\n",
    "        distance = abs(x) + abs(y)\n",
    "        if distance <= 5:\n",
    "            short_walk += 1\n",
    "    # Finally, we calculate the percentage of short walk using the float number of short walk \n",
    "    # divided by the total number of walks defined at the beginning        \n",
    "    short_walk_percentage = float(short_walk)/number_of_walks\n",
    "    print(\"With walk size = \", walk_length, \", the percentage of short distance is \", 100 * short_walk_percentage, \"%\")\n",
    "    "
   ]
  },
  {
   "cell_type": "code",
   "execution_count": 22,
   "metadata": {},
   "outputs": [],
   "source": [
    "import math\n",
    "def euclidean_distance(x1, y1, x2, y2):\n",
    "    \"\"\"Compute Euclidean distance: for p1: (x1, y1) and p2: (x2, y2),\n",
    "       d(p1, p2) = sqrt((x1-x2)^2 + (y1-y2)^2)\n",
    "    \"\"\"\n",
    "    return math.sqrt((x1-x2)**2 + (y1-y2)**2)"
   ]
  },
  {
   "cell_type": "code",
   "execution_count": 26,
   "metadata": {},
   "outputs": [
    {
     "name": "stdout",
     "output_type": "stream",
     "text": [
      "With walk size =  1 , the percentage of short distance is  100.0 %\n",
      "With walk size =  2 , the percentage of short distance is  100.0 %\n",
      "With walk size =  3 , the percentage of short distance is  100.0 %\n",
      "With walk size =  4 , the percentage of short distance is  100.0 %\n",
      "With walk size =  5 , the percentage of short distance is  95.67999999999999 %\n",
      "With walk size =  6 , the percentage of short distance is  93.71000000000001 %\n",
      "With walk size =  7 , the percentage of short distance is  88.31 %\n",
      "With walk size =  8 , the percentage of short distance is  86.38 %\n",
      "With walk size =  9 , the percentage of short distance is  81.14 %\n",
      "With walk size =  10 , the percentage of short distance is  79.38 %\n",
      "With walk size =  11 , the percentage of short distance is  74.3 %\n",
      "With walk size =  12 , the percentage of short distance is  72.99 %\n",
      "With walk size =  13 , the percentage of short distance is  67.44 %\n",
      "With walk size =  14 , the percentage of short distance is  67.91 %\n",
      "With walk size =  15 , the percentage of short distance is  63.3 %\n",
      "With walk size =  16 , the percentage of short distance is  61.09 %\n",
      "With walk size =  17 , the percentage of short distance is  58.4 %\n",
      "With walk size =  18 , the percentage of short distance is  57.76 %\n",
      "With walk size =  19 , the percentage of short distance is  54.949999999999996 %\n",
      "With walk size =  20 , the percentage of short distance is  54.120000000000005 %\n",
      "With walk size =  21 , the percentage of short distance is  51.0 %\n",
      "With walk size =  22 , the percentage of short distance is  51.11 %\n",
      "With walk size =  23 , the percentage of short distance is  48.38 %\n",
      "With walk size =  24 , the percentage of short distance is  47.349999999999994 %\n",
      "With walk size =  25 , the percentage of short distance is  44.97 %\n",
      "With walk size =  26 , the percentage of short distance is  46.129999999999995 %\n",
      "With walk size =  27 , the percentage of short distance is  42.52 %\n",
      "With walk size =  28 , the percentage of short distance is  42.55 %\n",
      "With walk size =  29 , the percentage of short distance is  40.42 %\n",
      "With walk size =  30 , the percentage of short distance is  41.06 %\n",
      "With walk size =  31 , the percentage of short distance is  38.45 %\n",
      "With walk size =  32 , the percentage of short distance is  38.51 %\n",
      "With walk size =  33 , the percentage of short distance is  36.43 %\n",
      "With walk size =  34 , the percentage of short distance is  37.01 %\n",
      "With walk size =  35 , the percentage of short distance is  34.79 %\n",
      "With walk size =  36 , the percentage of short distance is  34.77 %\n",
      "With walk size =  37 , the percentage of short distance is  33.239999999999995 %\n",
      "With walk size =  38 , the percentage of short distance is  34.62 %\n",
      "With walk size =  39 , the percentage of short distance is  32.800000000000004 %\n",
      "With walk size =  40 , the percentage of short distance is  32.68 %\n"
     ]
    }
   ],
   "source": [
    "# To get an accurate number, we use a 10,000 random walks for each walk size\n",
    "number_of_walks = 10000\n",
    "\n",
    "# For each walk size,\n",
    "for walk_length in range(1,41):\n",
    "    # Conduct 10,000 random walks and calculate the percentage of getting short distance walk\n",
    "    \n",
    "    # Let's create a counter to store the number\n",
    "    short_walk = 0\n",
    "    \n",
    "    # Now begin the Monte Carlo Simulation. For each time of the random walk,\n",
    "    for time in range(number_of_walks):\n",
    "        # return the final x and y coordinate after n step of the random walk\n",
    "        (x, y) = random_walk(walk_length)\n",
    "        # We now use Euclidean distance instead to calculate the final distance from origin  \n",
    "        distance = euclidean_distance(x, y, 0, 0)\n",
    "        # So if euclidean distance is less than or equal to 4, add 1 to the counter\n",
    "        if distance <= 4:\n",
    "            short_walk += 1\n",
    "    # Finally, we calculate the percentage of short walk using the float number of short walk \n",
    "    # divided by the total number of walks defined at the beginning\n",
    "    short_walk_percentage = float(short_walk)/number_of_walks\n",
    "    print(\"With walk size = \", walk_length, \", the percentage of short distance is \", 100 * short_walk_percentage, \"%\")\n",
    "    "
   ]
  }
 ],
 "metadata": {
  "kernelspec": {
   "display_name": "Python 3",
   "language": "python",
   "name": "python3"
  },
  "language_info": {
   "codemirror_mode": {
    "name": "ipython",
    "version": 3
   },
   "file_extension": ".py",
   "mimetype": "text/x-python",
   "name": "python",
   "nbconvert_exporter": "python",
   "pygments_lexer": "ipython3",
   "version": "3.8.3"
  }
 },
 "nbformat": 4,
 "nbformat_minor": 4
}
