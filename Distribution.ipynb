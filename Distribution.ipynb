{
 "cells": [
  {
   "cell_type": "markdown",
   "metadata": {},
   "source": [
    "In this lecture we'll discuss distribution. In the real world, we often heard about inequalities between urban and rural area, rich and poor as a result of resources not equally distributed for different regions and individuals. So we might think that a set of resources and (way of giving more and less to different subjects) are required to make a distribution.\n",
    "\n",
    "In Bayesian statistics, distribution is defined as a set of values and their corresponding probabilities. If you are interested in how many times each word appears in the Oxford English dictionary, the Python for Everybody textbook and so on, you could build a distribution that includes each word and how many times it appears."
   ]
  },
  {
   "cell_type": "markdown",
   "metadata": {},
   "source": [
    "There are many ways to represent a distribution in Python. The most common one is through a dictionary. You can build a dictionary with the words as keys and their occurrences as values, and use that dictionary to map from each value to its probability. "
   ]
  },
  {
   "cell_type": "code",
   "execution_count": null,
   "metadata": {},
   "outputs": [],
   "source": [
    "# Now let's import \n",
    "\n"
   ]
  },
  {
   "cell_type": "markdown",
   "metadata": {},
   "source": [
    "So you can see xxxxx. We actually call this method of representing distribution as **probability mass function**."
   ]
  },
  {
   "cell_type": "markdown",
   "metadata": {},
   "source": [
    "## Credible Intervals\n",
    "\n",
    "Once you have computed a posterior distribution, it's often useful to summarize the results with a single point estimate or an interval. We are particularly looking at interval estimates to capture also the uncertainty of the estimates. We usually report two values together so that a high percentage (e.g. 95%) of unknown value falls between such lower and upper bounds. These values define a **credible interval**.\n",
    "\n",
    "A straightforward way to compute a credible interval without using formulas is to add up all the probabilities in the posterior distribution and record the values that correspond to the lower and upper percentiles."
   ]
  },
  {
   "cell_type": "code",
   "execution_count": null,
   "metadata": {},
   "outputs": [],
   "source": [
    "# Compute percentiles\n",
    "\n",
    "def percentile(pmf, percentage):\n",
    "    p = percentage / 100.0\n",
    "    total = 0\n",
    "    for val, prob in pmf.Items():\n",
    "        total += prob\n",
    "        if total >= p\n",
    "        return val\n",
    "\n",
    "# Credible Intervals\n",
    "\n",
    "def credible_interval(pmf, percentage):\n",
    "    interval = list()\n",
    "    lower_bound = percentile(pmf, 2.5)\n",
    "    upper_bound = percentile(pmf, 97.5)\n",
    "    interval = interval.append(lower_bound)\n",
    "    interval = interval.append(upper_bound)\n",
    "    return interval"
   ]
  },
  {
   "cell_type": "code",
   "execution_count": null,
   "metadata": {},
   "outputs": [],
   "source": []
  },
  {
   "cell_type": "markdown",
   "metadata": {},
   "source": [
    "## Visualize Distributions in Python"
   ]
  },
  {
   "cell_type": "markdown",
   "metadata": {},
   "source": [
    "Reference: https://distribution-explorer.github.io/continuous/halfcauchy.html"
   ]
  },
  {
   "cell_type": "code",
   "execution_count": 7,
   "metadata": {},
   "outputs": [
    {
     "data": {
      "text/plain": [
       "[<matplotlib.lines.Line2D at 0x199fa763dc0>]"
      ]
     },
     "execution_count": 7,
     "metadata": {},
     "output_type": "execute_result"
    },
    {
     "data": {
      "image/png": "[encoded data removed]",
      "text/plain": [
       "<Figure size 432x288 with 1 Axes>"
      ]
     },
     "metadata": {
      "needs_background": "light"
     },
     "output_type": "display_data"
    }
   ],
   "source": [
    "from scipy.stats import halfcauchy\n",
    "import matplotlib.pyplot as plt\n",
    "import numpy as np\n",
    "\n",
    "fig, ax = plt.subplots(1,1)\n",
    "\n",
    "x = np.linspace(halfcauchy.ppf(0.001), halfcauchy.ppf(0.95), 300)\n",
    "ax.plot(x, halfcauchy.pdf(x), 'r-', lw = 5, alpha = 0.6, label = 'halfcauchy pdf')"
   ]
  },
  {
   "cell_type": "code",
   "execution_count": 13,
   "metadata": {},
   "outputs": [],
   "source": [
    "cauchy_random = halfcauchy.rvs(size = 500)\n",
    "ax.hist(cauchy_random, density = True, histtype = 'stepfilled', alpha = 0.3)\n",
    "ax.legend(loc = 'best', frameon=False)\n",
    "plt.show()"
   ]
  }
 ],
 "metadata": {
  "kernelspec": {
   "display_name": "Python 3",
   "language": "python",
   "name": "python3"
  },
  "language_info": {
   "codemirror_mode": {
    "name": "ipython",
    "version": 3
   },
   "file_extension": ".py",
   "mimetype": "text/x-python",
   "name": "python",
   "nbconvert_exporter": "python",
   "pygments_lexer": "ipython3",
   "version": "3.8.3"
  }
 },
 "nbformat": 4,
 "nbformat_minor": 4
}
