{
 "cells": [
  {
   "cell_type": "code",
   "execution_count": 1,
   "metadata": {},
   "outputs": [
    {
     "name": "stdout",
     "output_type": "stream",
     "text": [
      "4.710031853002695 3.270374456798564e-05\n"
     ]
    }
   ],
   "source": [
    "# Start by importing numpy\n",
    "import numpy as np\n",
    "# And import stats from scipy\n",
    "from scipy import stats\n",
    "\n",
    "# First we generate some data\n",
    "# Define 20 data points for each group\n",
    "N = 20\n",
    "\n",
    "# a is a Gaussian distributed data with size N and the mean would be 2\n",
    "a = np.random.randn(N) + 2\n",
    "# b the same except with mean 0, both with variance 1\n",
    "b = np.random.randn(N)\n",
    "\n",
    "var_a = a.var(ddof = 1)\n",
    "var_b = b.var(ddof = 1)\n",
    "\n",
    "# Calculate pooled standard deviation\n",
    "\n",
    "s = np.sqrt((var_a + var_b) / 2)\n",
    "\n",
    "# Calculate the t-statistics\n",
    "\n",
    "t = (a.mean() - b.mean()) / (s * np.sqrt(2.0/N))\n",
    "\n",
    "# Calculate the degree of freedom\n",
    "\n",
    "df = 2 * N - 2\n",
    "\n",
    "# and the p-value\n",
    "p = 1 - stats.t.cdf(t, df = df)\n",
    "\n",
    "print(t, 2*p)"
   ]
  },
  {
   "cell_type": "code",
   "execution_count": 2,
   "metadata": {},
   "outputs": [
    {
     "name": "stdout",
     "output_type": "stream",
     "text": [
      "4.710031853002694 3.270374456785587e-05\n"
     ]
    }
   ],
   "source": [
    "# Using a convenience function stats.ttest_ind can perform t-test directly\n",
    "t2, p2 = stats.ttest_ind(a,b)\n",
    "print(t2, p2)"
   ]
  },
  {
   "cell_type": "markdown",
   "metadata": {},
   "source": [
    "So we get the same answer for both cases."
   ]
  }
 ],
 "metadata": {
  "kernelspec": {
   "display_name": "Python 3",
   "language": "python",
   "name": "python3"
  },
  "language_info": {
   "codemirror_mode": {
    "name": "ipython",
    "version": 3
   },
   "file_extension": ".py",
   "mimetype": "text/x-python",
   "name": "python",
   "nbconvert_exporter": "python",
   "pygments_lexer": "ipython3",
   "version": "3.8.3"
  }
 },
 "nbformat": 4,
 "nbformat_minor": 4
}
